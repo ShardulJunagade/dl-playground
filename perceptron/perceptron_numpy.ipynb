{
 "cells": [
  {
   "cell_type": "code",
   "execution_count": 1,
   "metadata": {},
   "outputs": [],
   "source": [
    "import numpy as np\n",
    "import matplotlib.pyplot as plt\n",
    "%matplotlib inline\n",
    "\n",
    "np.random.seed(0)"
   ]
  },
  {
   "cell_type": "markdown",
   "metadata": {},
   "source": [
    "### Perceptron Model"
   ]
  },
  {
   "cell_type": "code",
   "execution_count": null,
   "metadata": {},
   "outputs": [],
   "source": [
    "class Perceptron(object):\n",
    "    \"\"\"\n",
    "    Perceptron classifier.\n",
    "    \n",
    "    Parameters\n",
    "    ----------\n",
    "    num_features : int\n",
    "        Number of features in the input data.\n",
    "    lr : float, optional (default=1)\n",
    "        Learning rate.\n",
    "    epochs : int, optional (default=100)\n",
    "        Number of epochs for training.\n",
    "    \n",
    "    Attributes\n",
    "    ----------\n",
    "    weights : ndarray of shape (num_features, 1)\n",
    "        Weights after fitting.\n",
    "    bias : ndarray of shape (1,)\n",
    "        Bias after fitting.\n",
    "    \n",
    "    Methods\n",
    "    -------\n",
    "    activation_fn(z)\n",
    "        Applies the activation function on the input z.\n",
    "    forward(X)\n",
    "        Computes the linear output and applies the activation function.\n",
    "    backward(X, y)\n",
    "        Computes the error between the predicted and actual values.\n",
    "    train(X, y)\n",
    "        Trains the perceptron on the given data.\n",
    "    predict(X)\n",
    "        Predicts the class labels for the given data.\n",
    "    evaluate(X, y)\n",
    "        Evaluates the accuracy of the perceptron on the given data.\n",
    "    get_weights()\n",
    "        Returns the weights and bias of the perceptron.\n",
    "    set_weights(weights, bias)\n",
    "        Sets the weights and bias of the perceptron.\n",
    "    \"\"\"\n",
    "    \n",
    "    def __init__(self, num_features, lr=1, epochs=100):\n",
    "        self.num_features = num_features\n",
    "        self.lr = lr\n",
    "        self.epochs = epochs\n",
    "        self.weights = np.zeros((num_features, 1), dtype=np.float64)\n",
    "        self.bias = np.zeros(1, dtype=np.float64)\n",
    "\n",
    "    def activation_fn(self, z):\n",
    "        return (z >= 0).astype(np.int32)\n",
    "    \n",
    "    def forward(self, X):\n",
    "        linear_output = np.dot(X, self.weights) + self.bias\n",
    "        predictions = self.activation_fn(linear_output)\n",
    "        return predictions.reshape(-1)\n",
    "    \n",
    "    def backward(self, X, y):\n",
    "        y_hat = self.forward(X)\n",
    "        errors = y - y_hat\n",
    "        return errors\n",
    "    \n",
    "    def train(self, X, y, epochs=None, lr=None):\n",
    "        epochs = epochs if epochs is not None else self.epochs\n",
    "        lr = lr if lr is not None else self.lr\n",
    "        \n",
    "        for epoch in range(self.epochs):\n",
    "            errors_sum = 0\n",
    "            for i in range(y.shape[0]):\n",
    "                errors = self.backward(X[i].reshape(1, self.num_features), y[i])\n",
    "                self.weights += self.lr * errors * X[i].reshape(self.num_features, 1)\n",
    "                self.bias += self.lr * errors\n",
    "                errors_sum += np.abs(errors).sum()\n",
    "            \n",
    "            print(f'Epoch {epoch + 1}, Total Error: {errors_sum}')\n",
    "            \n",
    "            # Optional: stop early if convergence is achieved\n",
    "            if errors_sum == 0:\n",
    "                print(f\"Convergence achieved at epoch {epoch + 1}\")\n",
    "                break\n",
    "\n",
    "\n",
    "    def predict(self, X):\n",
    "        return self.forward(X)\n",
    "    \n",
    "    def evaluate(self, X, y):\n",
    "        predictions = self.predict(X)\n",
    "        accuracy = np.mean(predictions == y)\n",
    "        return accuracy\n",
    "    \n",
    "    def get_weights(self):\n",
    "        print('Weights:\\n', self.weights)\n",
    "        print('\\nBias:\\n', self.bias)\n",
    "        return self.weights, self.bias\n",
    "    \n",
    "    def set_weights(self, weights, bias):\n",
    "        self.weights = weights\n",
    "        self.bias = bias\n"
   ]
  },
  {
   "cell_type": "markdown",
   "metadata": {},
   "source": [
    "### AND, OR, XOR model"
   ]
  },
  {
   "cell_type": "code",
   "execution_count": 3,
   "metadata": {},
   "outputs": [],
   "source": [
    "X = np.array([[0, 0], [0, 1], [1, 0], [1, 1]])\n",
    "y_and = np.array([0, 0, 0, 1])\n",
    "y_or = np.array([0, 1, 1, 1])\n",
    "y_xor = np.array([0, 1, 1, 0])"
   ]
  },
  {
   "cell_type": "code",
   "execution_count": null,
   "metadata": {},
   "outputs": [],
   "source": [
    "model = Perceptron(num_features=2, lr=0.01, epochs=100)"
   ]
  },
  {
   "cell_type": "code",
   "execution_count": null,
   "metadata": {},
   "outputs": [
    {
     "name": "stdout",
     "output_type": "stream",
     "text": [
      "Epoch 1, Total Error: 2\n",
      "Epoch 2, Total Error: 2\n",
      "Epoch 3, Total Error: 1\n",
      "Epoch 4, Total Error: 0\n",
      "Convergence achieved at epoch 4\n"
     ]
    }
   ],
   "source": [
    "model.train(X, y_or)"
   ]
  },
  {
   "cell_type": "code",
   "execution_count": null,
   "metadata": {},
   "outputs": [
    {
     "name": "stdout",
     "output_type": "stream",
     "text": [
      "Model parameters:\n",
      "\n",
      "\n",
      "  Weights: [[0.01]\n",
      " [0.01]]\n",
      "\n",
      "  Bias: [-0.01]\n",
      "\n"
     ]
    }
   ],
   "source": [
    "print('Model parameters:\\n\\n')\n",
    "print('  Weights: %s\\n' % model.weights)\n",
    "print('  Bias: %s\\n' % model.bias)"
   ]
  },
  {
   "cell_type": "markdown",
   "metadata": {},
   "source": [
    "### Training on dataset"
   ]
  },
  {
   "cell_type": "code",
   "execution_count": 7,
   "metadata": {},
   "outputs": [
    {
     "name": "stdout",
     "output_type": "stream",
     "text": [
      "Class label counts: [50 50]\n",
      "X.shape: (100, 2)\n",
      "y.shape: (100,)\n"
     ]
    }
   ],
   "source": [
    "##########################\n",
    "### DATASET\n",
    "##########################\n",
    "\n",
    "data = np.genfromtxt('perceptron_toydata.txt', delimiter='\\t')\n",
    "X, y = data[:, :2], data[:, 2]\n",
    "y = y.astype(np.int64)\n",
    "\n",
    "print('Class label counts:', np.bincount(y))\n",
    "print('X.shape:', X.shape)\n",
    "print('y.shape:', y.shape)\n",
    "\n",
    "# Shuffling & train/test split\n",
    "shuffle_idx = np.arange(y.shape[0])\n",
    "shuffle_rng = np.random.RandomState(123)\n",
    "shuffle_rng.shuffle(shuffle_idx)\n",
    "X, y = X[shuffle_idx], y[shuffle_idx]\n",
    "\n",
    "X_train, X_test = X[shuffle_idx[:70]], X[shuffle_idx[70:]]\n",
    "y_train, y_test = y[shuffle_idx[:70]], y[shuffle_idx[70:]]\n",
    "\n",
    "# Normalize (mean zero, unit variance)\n",
    "mu, sigma = X_train.mean(axis=0), X_train.std(axis=0)\n",
    "X_train = (X_train - mu) / sigma\n",
    "X_test = (X_test - mu) / sigma"
   ]
  },
  {
   "cell_type": "code",
   "execution_count": null,
   "metadata": {},
   "outputs": [
    {
     "name": "stdout",
     "output_type": "stream",
     "text": [
      "Epoch 1, Total Error: 3\n",
      "Epoch 2, Total Error: 0\n",
      "Convergence achieved at epoch 2\n",
      "Model parameters:\n",
      "\n",
      "\n",
      "  Weights: [[2.02931895]\n",
      " [0.59329761]]\n",
      "\n",
      "  Bias: [-1.]\n",
      "\n"
     ]
    }
   ],
   "source": [
    "ppn = Perceptron(num_features=2, lr=1, epochs=1000)\n",
    "\n",
    "ppn.train(X_train, y_train)\n",
    "\n",
    "print('Model parameters:\\n\\n')\n",
    "print('  Weights: %s\\n' % ppn.weights)\n",
    "print('  Bias: %s\\n' % ppn.bias)"
   ]
  },
  {
   "cell_type": "code",
   "execution_count": 9,
   "metadata": {},
   "outputs": [
    {
     "name": "stdout",
     "output_type": "stream",
     "text": [
      "Train set accuracy: 100.00%\n",
      "Test set accuracy: 100.00%\n"
     ]
    }
   ],
   "source": [
    "train_acc = ppn.evaluate(X_train, y_train)\n",
    "print('Train set accuracy: %.2f%%' % (train_acc*100))\n",
    "\n",
    "test_acc = ppn.evaluate(X_test, y_test)\n",
    "print('Test set accuracy: %.2f%%' % (test_acc*100))"
   ]
  },
  {
   "cell_type": "code",
   "execution_count": 10,
   "metadata": {},
   "outputs": [
    {
     "data": {
      "image/png": "[encoded data removed]",
      "text/plain": [
       "<Figure size 700x300 with 2 Axes>"
      ]
     },
     "metadata": {},
     "output_type": "display_data"
    }
   ],
   "source": [
    "##########################\n",
    "### 2D Decision Boundary\n",
    "##########################\n",
    "\n",
    "w, b = ppn.weights, ppn.bias\n",
    "\n",
    "x0_min = -2\n",
    "x1_min = ( (-(w[0] * x0_min) - b[0]) \n",
    "          / w[1] )\n",
    "\n",
    "x0_max = 2\n",
    "x1_max = ( (-(w[0] * x0_max) - b[0]) \n",
    "          / w[1] )\n",
    "\n",
    "# x0*w0 + x1*w1 + b = 0\n",
    "# x1  = (-x0*w0 - b) / w1\n",
    "\n",
    "\n",
    "fig, ax = plt.subplots(1, 2, sharex=True, figsize=(7, 3))\n",
    "\n",
    "ax[0].plot([x0_min, x0_max], [x1_min, x1_max])\n",
    "ax[0].scatter(X_train[y_train==0, 0], X_train[y_train==0, 1], label='class 0', marker='o')\n",
    "ax[0].scatter(X_train[y_train==1, 0], X_train[y_train==1, 1], label='class 1', marker='s')\n",
    "\n",
    "ax[1].plot([x0_min, x0_max], [x1_min, x1_max])\n",
    "ax[1].scatter(X_test[y_test==0, 0], X_test[y_test==0, 1], label='class 0', marker='o')\n",
    "ax[1].scatter(X_test[y_test==1, 0], X_test[y_test==1, 1], label='class 1', marker='s')\n",
    "\n",
    "ax[1].legend(loc='upper left')\n",
    "plt.show()"
   ]
  },
  {
   "cell_type": "code",
   "execution_count": null,
   "metadata": {},
   "outputs": [],
   "source": []
  }
 ],
 "metadata": {
  "kernelspec": {
   "display_name": "base",
   "language": "python",
   "name": "python3"
  },
  "language_info": {
   "codemirror_mode": {
    "name": "ipython",
    "version": 3
   },
   "file_extension": ".py",
   "mimetype": "text/x-python",
   "name": "python",
   "nbconvert_exporter": "python",
   "pygments_lexer": "ipython3",
   "version": "3.12.7"
  }
 },
 "nbformat": 4,
 "nbformat_minor": 2
}
