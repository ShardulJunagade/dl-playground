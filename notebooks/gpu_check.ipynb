{
 "cells": [
  {
   "cell_type": "code",
   "execution_count": 1,
   "metadata": {},
   "outputs": [
    {
     "name": "stdout",
     "output_type": "stream",
     "text": [
      "========================================\n",
      "🔍 PyTorch Environment Check\n",
      "========================================\n",
      "🧱 PyTorch version:         2.6.0+cu126\n",
      "📁 Installed at:           C:\\Users\\shard\\Desktop\\ML\\env\\Lib\\site-packages\\torch\n",
      "🚀 CUDA available:         True\n",
      "🖥️  Total number of GPUs:   1\n",
      "\n",
      "--- GPU 0 ---\n",
      "Device ID:              0\n",
      "Device Name:            NVIDIA GeForce RTX 4060 Laptop GPU\n",
      "Device Capability:      (8, 9)\n",
      "Memory Allocated:       0.00 MB\n",
      "Max Memory Allocated:   0.00 MB\n",
      "Memory Cached:          0.00 MB\n",
      "Max Memory Cached:      0.00 MB\n",
      "========================================\n"
     ]
    }
   ],
   "source": [
    "import torch\n",
    "import os\n",
    "\n",
    "print(\"=\"*40)\n",
    "print(\"🔍 PyTorch Environment Check\")\n",
    "print(\"=\"*40)\n",
    "\n",
    "print(f\"🧱 PyTorch version:         {torch.__version__}\")\n",
    "print(f\"📁 Installed at:           {os.path.dirname(torch.__file__)}\")\n",
    "print(f\"🚀 CUDA available:         {torch.cuda.is_available()}\")\n",
    "\n",
    "if torch.cuda.is_available():\n",
    "    print(f\"🖥️  Total number of GPUs:   {torch.cuda.device_count()}\")\n",
    "    for i in range(torch.cuda.device_count()):\n",
    "        print(f\"\\n--- GPU {i} ---\")\n",
    "        print(f\"Device ID:              {i}\")\n",
    "        print(f\"Device Name:            {torch.cuda.get_device_name(i)}\")\n",
    "        print(f\"Device Capability:      {torch.cuda.get_device_capability(i)}\")\n",
    "        print(f\"Memory Allocated:       {torch.cuda.memory_allocated(i)/1024**2:.2f} MB\")\n",
    "        print(f\"Max Memory Allocated:   {torch.cuda.max_memory_allocated(i)/1024**2:.2f} MB\")\n",
    "        print(f\"Memory Cached:          {torch.cuda.memory_reserved(i)/1024**2:.2f} MB\")\n",
    "        print(f\"Max Memory Cached:      {torch.cuda.max_memory_reserved(i)/1024**2:.2f} MB\")\n",
    "else:\n",
    "    print(\"⚠️  CUDA is not available. The code will run on CPU.\")\n",
    "\n",
    "print(\"=\"*40)\n"
   ]
  },
  {
   "cell_type": "code",
   "execution_count": 2,
   "metadata": {},
   "outputs": [
    {
     "name": "stdout",
     "output_type": "stream",
     "text": [
      "Current device ID: 0\n",
      "Current device name: NVIDIA GeForce RTX 4060 Laptop GPU\n",
      "Device memory address: <torch.cuda.device object at 0x000001111709F770>\n"
     ]
    }
   ],
   "source": [
    "if torch.cuda.is_available():\n",
    "    gpu_num = 0\n",
    "    torch.cuda.set_device(gpu_num)\n",
    "    current_device = torch.cuda.current_device()\n",
    "    print(\"Current device ID:\", current_device)\n",
    "    print(\"Current device name:\", torch.cuda.get_device_name(current_device))\n",
    "    print(\"Device memory address:\", torch.cuda.device(current_device))"
   ]
  },
  {
   "cell_type": "code",
   "execution_count": null,
   "metadata": {},
   "outputs": [],
   "source": []
  }
 ],
 "metadata": {
  "kernelspec": {
   "display_name": "Python 3 (ipykernel)",
   "language": "python",
   "name": "python3"
  },
  "language_info": {
   "codemirror_mode": {
    "name": "ipython",
    "version": 3
   },
   "file_extension": ".py",
   "mimetype": "text/x-python",
   "name": "python",
   "nbconvert_exporter": "python",
   "pygments_lexer": "ipython3",
   "version": "3.12.10"
  }
 },
 "nbformat": 4,
 "nbformat_minor": 4
}
